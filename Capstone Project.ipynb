{
    "cells": [
        {
            "cell_type": "markdown",
            "metadata": {
                "collapsed": true
            },
            "source": "# Car accident severity\n## IBM Applied Data Science Capstone Project\n### By LN-Coursera"
        },
        {
            "cell_type": "markdown",
            "metadata": {},
            "source": "## Table of Contents:\n* Introduction/Business Problem\n* Data\n* Methodology\n* Results\n* Discussion\n* Conclusion"
        },
        {
            "cell_type": "markdown",
            "metadata": {},
            "source": "## Introduction/Business Problem:\nTrying to reduce the frequency of car collisions, I'm going to use the given data for the Capstone. During this project I'll predict the severity of car accidents given the current weather, road and visibility conditions. The goal of my project is to alert drivers when the current conditions are bad ('SEVERITYCODE' > 0), so that they can drive more careful."
        },
        {
            "cell_type": "markdown",
            "metadata": {},
            "source": "## Data\n### Data requirements\nFor our given problem we need a specific set of data. It should be a large amount of data, so that we can train our model as good as possible and predict severity of car accidents as precise as possible to prevent more accidents in the future.\n### Data description\nThe target variable for the Capstone is going to be 'SEVERITYCODE' - it is used measure the severity of a car accident from 0 to 4 within the dataset. To weigh the severity of a car accident the following attributes are used: 'WEATHER', 'ROADCOND' and 'LIGHTCOND'.\n\n\nSeverity codes are as follows:\n\n\n0 : Little to no Probability (Clear Conditions)\n\n1 : Very Low Probability - Chance or Property Damage\n\n2 : Low Probability - Chance of Injury\n\n3 : Mild Probability - Chance of Serious Injury\n\n4 : High Probability - Chance of Fatality\n\n\nOther important attributes are:\n\n\nOBJECTID: ESRI unique identifier\n\nADDRTYPE: Collision address type: Alley, Block, Intersection\n\nLOCATION: Description of the general location of the collision\n\nCOLLISIONTYPE: Collision type\n\nPERSONCOUNT: The total number of people involved in the collision\n\nPEDCOUNT: The number of pedestrians involved in the collision\n\nPEDCYLCOUNT: The number of bicycles involved in the collision\n\nVEHCOUNT: The number of vehicles involved in the collision\n\nINCDTTM: The date and time of the incident\n\nPEDROWNOTGRNT: Whether or not the pedestrian right of way was not granted\n\nSPEEDING: Whether or not speeding was a factor in the collision\n\n\nIn it's original form, this data is not fit for analysis. For one, there are many columns that we will not use for this model. Also, most of the features are of type object, when they should be numerical type.\n\nWe must use label encoding to covert the features to our desired data type."
        },
        {
            "cell_type": "markdown",
            "metadata": {},
            "source": "### Let's start!"
        },
        {
            "cell_type": "code",
            "execution_count": 44,
            "metadata": {},
            "outputs": [
                {
                    "name": "stderr",
                    "output_type": "stream",
                    "text": "/opt/conda/envs/Python36/lib/python3.6/site-packages/IPython/core/interactiveshell.py:3020: DtypeWarning: Columns (33) have mixed types. Specify dtype option on import or set low_memory=False.\n  interactivity=interactivity, compiler=compiler, result=result)\n"
                },
                {
                    "data": {
                        "text/html": "<div>\n<style scoped>\n    .dataframe tbody tr th:only-of-type {\n        vertical-align: middle;\n    }\n\n    .dataframe tbody tr th {\n        vertical-align: top;\n    }\n\n    .dataframe thead th {\n        text-align: right;\n    }\n</style>\n<table border=\"1\" class=\"dataframe\">\n  <thead>\n    <tr style=\"text-align: right;\">\n      <th></th>\n      <th>SEVERITYCODE</th>\n      <th>X</th>\n      <th>Y</th>\n      <th>OBJECTID</th>\n      <th>INCKEY</th>\n      <th>COLDETKEY</th>\n      <th>REPORTNO</th>\n      <th>STATUS</th>\n      <th>ADDRTYPE</th>\n      <th>INTKEY</th>\n      <th>...</th>\n      <th>ROADCOND</th>\n      <th>LIGHTCOND</th>\n      <th>PEDROWNOTGRNT</th>\n      <th>SDOTCOLNUM</th>\n      <th>SPEEDING</th>\n      <th>ST_COLCODE</th>\n      <th>ST_COLDESC</th>\n      <th>SEGLANEKEY</th>\n      <th>CROSSWALKKEY</th>\n      <th>HITPARKEDCAR</th>\n    </tr>\n  </thead>\n  <tbody>\n    <tr>\n      <th>0</th>\n      <td>2</td>\n      <td>-122.323148</td>\n      <td>47.703140</td>\n      <td>1</td>\n      <td>1307</td>\n      <td>1307</td>\n      <td>3502005</td>\n      <td>Matched</td>\n      <td>Intersection</td>\n      <td>37475.0</td>\n      <td>...</td>\n      <td>Wet</td>\n      <td>Daylight</td>\n      <td>NaN</td>\n      <td>NaN</td>\n      <td>NaN</td>\n      <td>10</td>\n      <td>Entering at angle</td>\n      <td>0</td>\n      <td>0</td>\n      <td>N</td>\n    </tr>\n    <tr>\n      <th>1</th>\n      <td>1</td>\n      <td>-122.347294</td>\n      <td>47.647172</td>\n      <td>2</td>\n      <td>52200</td>\n      <td>52200</td>\n      <td>2607959</td>\n      <td>Matched</td>\n      <td>Block</td>\n      <td>NaN</td>\n      <td>...</td>\n      <td>Wet</td>\n      <td>Dark - Street Lights On</td>\n      <td>NaN</td>\n      <td>6354039.0</td>\n      <td>NaN</td>\n      <td>11</td>\n      <td>From same direction - both going straight - bo...</td>\n      <td>0</td>\n      <td>0</td>\n      <td>N</td>\n    </tr>\n    <tr>\n      <th>2</th>\n      <td>1</td>\n      <td>-122.334540</td>\n      <td>47.607871</td>\n      <td>3</td>\n      <td>26700</td>\n      <td>26700</td>\n      <td>1482393</td>\n      <td>Matched</td>\n      <td>Block</td>\n      <td>NaN</td>\n      <td>...</td>\n      <td>Dry</td>\n      <td>Daylight</td>\n      <td>NaN</td>\n      <td>4323031.0</td>\n      <td>NaN</td>\n      <td>32</td>\n      <td>One parked--one moving</td>\n      <td>0</td>\n      <td>0</td>\n      <td>N</td>\n    </tr>\n    <tr>\n      <th>3</th>\n      <td>1</td>\n      <td>-122.334803</td>\n      <td>47.604803</td>\n      <td>4</td>\n      <td>1144</td>\n      <td>1144</td>\n      <td>3503937</td>\n      <td>Matched</td>\n      <td>Block</td>\n      <td>NaN</td>\n      <td>...</td>\n      <td>Dry</td>\n      <td>Daylight</td>\n      <td>NaN</td>\n      <td>NaN</td>\n      <td>NaN</td>\n      <td>23</td>\n      <td>From same direction - all others</td>\n      <td>0</td>\n      <td>0</td>\n      <td>N</td>\n    </tr>\n    <tr>\n      <th>4</th>\n      <td>2</td>\n      <td>-122.306426</td>\n      <td>47.545739</td>\n      <td>5</td>\n      <td>17700</td>\n      <td>17700</td>\n      <td>1807429</td>\n      <td>Matched</td>\n      <td>Intersection</td>\n      <td>34387.0</td>\n      <td>...</td>\n      <td>Wet</td>\n      <td>Daylight</td>\n      <td>NaN</td>\n      <td>4028032.0</td>\n      <td>NaN</td>\n      <td>10</td>\n      <td>Entering at angle</td>\n      <td>0</td>\n      <td>0</td>\n      <td>N</td>\n    </tr>\n  </tbody>\n</table>\n<p>5 rows \u00d7 38 columns</p>\n</div>",
                        "text/plain": "   SEVERITYCODE           X          Y  OBJECTID  INCKEY  COLDETKEY REPORTNO  \\\n0             2 -122.323148  47.703140         1    1307       1307  3502005   \n1             1 -122.347294  47.647172         2   52200      52200  2607959   \n2             1 -122.334540  47.607871         3   26700      26700  1482393   \n3             1 -122.334803  47.604803         4    1144       1144  3503937   \n4             2 -122.306426  47.545739         5   17700      17700  1807429   \n\n    STATUS      ADDRTYPE   INTKEY  ... ROADCOND                LIGHTCOND  \\\n0  Matched  Intersection  37475.0  ...      Wet                 Daylight   \n1  Matched         Block      NaN  ...      Wet  Dark - Street Lights On   \n2  Matched         Block      NaN  ...      Dry                 Daylight   \n3  Matched         Block      NaN  ...      Dry                 Daylight   \n4  Matched  Intersection  34387.0  ...      Wet                 Daylight   \n\n  PEDROWNOTGRNT  SDOTCOLNUM SPEEDING ST_COLCODE  \\\n0           NaN         NaN      NaN         10   \n1           NaN   6354039.0      NaN         11   \n2           NaN   4323031.0      NaN         32   \n3           NaN         NaN      NaN         23   \n4           NaN   4028032.0      NaN         10   \n\n                                          ST_COLDESC  SEGLANEKEY  \\\n0                                  Entering at angle           0   \n1  From same direction - both going straight - bo...           0   \n2                             One parked--one moving           0   \n3                   From same direction - all others           0   \n4                                  Entering at angle           0   \n\n   CROSSWALKKEY  HITPARKEDCAR  \n0             0             N  \n1             0             N  \n2             0             N  \n3             0             N  \n4             0             N  \n\n[5 rows x 38 columns]"
                    },
                    "execution_count": 44,
                    "metadata": {},
                    "output_type": "execute_result"
                }
            ],
            "source": "# The code was removed by Watson Studio for sharing."
        },
        {
            "cell_type": "code",
            "execution_count": 2,
            "metadata": {},
            "outputs": [
                {
                    "data": {
                        "text/html": "<div>\n<style scoped>\n    .dataframe tbody tr th:only-of-type {\n        vertical-align: middle;\n    }\n\n    .dataframe tbody tr th {\n        vertical-align: top;\n    }\n\n    .dataframe thead th {\n        text-align: right;\n    }\n</style>\n<table border=\"1\" class=\"dataframe\">\n  <thead>\n    <tr style=\"text-align: right;\">\n      <th></th>\n      <th>SEVERITYCODE</th>\n      <th>WEATHER</th>\n      <th>ROADCOND</th>\n      <th>LIGHTCOND</th>\n      <th>WEATHER_CAT</th>\n      <th>ROADCOND_CAT</th>\n      <th>LIGHTCOND_CAT</th>\n    </tr>\n  </thead>\n  <tbody>\n    <tr>\n      <th>0</th>\n      <td>2</td>\n      <td>Overcast</td>\n      <td>Wet</td>\n      <td>Daylight</td>\n      <td>4</td>\n      <td>8</td>\n      <td>5</td>\n    </tr>\n    <tr>\n      <th>1</th>\n      <td>1</td>\n      <td>Raining</td>\n      <td>Wet</td>\n      <td>Dark - Street Lights On</td>\n      <td>6</td>\n      <td>8</td>\n      <td>2</td>\n    </tr>\n    <tr>\n      <th>2</th>\n      <td>1</td>\n      <td>Overcast</td>\n      <td>Dry</td>\n      <td>Daylight</td>\n      <td>4</td>\n      <td>0</td>\n      <td>5</td>\n    </tr>\n    <tr>\n      <th>3</th>\n      <td>1</td>\n      <td>Clear</td>\n      <td>Dry</td>\n      <td>Daylight</td>\n      <td>1</td>\n      <td>0</td>\n      <td>5</td>\n    </tr>\n    <tr>\n      <th>4</th>\n      <td>2</td>\n      <td>Raining</td>\n      <td>Wet</td>\n      <td>Daylight</td>\n      <td>6</td>\n      <td>8</td>\n      <td>5</td>\n    </tr>\n  </tbody>\n</table>\n</div>",
                        "text/plain": "   SEVERITYCODE   WEATHER ROADCOND                LIGHTCOND  WEATHER_CAT  \\\n0             2  Overcast      Wet                 Daylight            4   \n1             1   Raining      Wet  Dark - Street Lights On            6   \n2             1  Overcast      Dry                 Daylight            4   \n3             1     Clear      Dry                 Daylight            1   \n4             2   Raining      Wet                 Daylight            6   \n\n   ROADCOND_CAT  LIGHTCOND_CAT  \n0             8              5  \n1             8              2  \n2             0              5  \n3             0              5  \n4             8              5  "
                    },
                    "execution_count": 2,
                    "metadata": {},
                    "output_type": "execute_result"
                }
            ],
            "source": "# Drop all unnecessary columns for this project\ncolData = df.drop(columns = ['OBJECTID', 'SEVERITYCODE.1', 'REPORTNO', 'INCKEY', 'COLDETKEY', \n              'X', 'Y', 'STATUS','ADDRTYPE',\n              'INTKEY', 'LOCATION', 'EXCEPTRSNCODE',\n              'EXCEPTRSNDESC', 'SEVERITYDESC', 'INCDATE',\n              'INCDTTM', 'JUNCTIONTYPE', 'SDOT_COLCODE',\n              'SDOT_COLDESC', 'PEDROWNOTGRNT', 'SDOTCOLNUM',\n              'ST_COLCODE', 'ST_COLDESC', 'SEGLANEKEY',\n              'CROSSWALKKEY', 'HITPARKEDCAR', 'PEDCOUNT', 'PEDCYLCOUNT',\n              'PERSONCOUNT', 'VEHCOUNT', 'COLLISIONTYPE',\n              'SPEEDING', 'UNDERINFL', 'INATTENTIONIND'])\n\n# Label Encoding\n# Convert column to category\ncolData[\"WEATHER\"] = colData[\"WEATHER\"].astype('category')\ncolData[\"ROADCOND\"] = colData[\"ROADCOND\"].astype('category')\ncolData[\"LIGHTCOND\"] = colData[\"LIGHTCOND\"].astype('category')\n\n# Assign variable to new column for analysis\ncolData[\"WEATHER_CAT\"] = colData[\"WEATHER\"].cat.codes\ncolData[\"ROADCOND_CAT\"] = colData[\"ROADCOND\"].cat.codes\ncolData[\"LIGHTCOND_CAT\"] = colData[\"LIGHTCOND\"].cat.codes\n\ncolData.head(5)"
        },
        {
            "cell_type": "code",
            "execution_count": 3,
            "metadata": {},
            "outputs": [
                {
                    "data": {
                        "text/plain": "SEVERITYCODE        int64\nWEATHER          category\nROADCOND         category\nLIGHTCOND        category\nWEATHER_CAT          int8\nROADCOND_CAT         int8\nLIGHTCOND_CAT        int8\ndtype: object"
                    },
                    "execution_count": 3,
                    "metadata": {},
                    "output_type": "execute_result"
                }
            ],
            "source": "colData.dtypes"
        },
        {
            "cell_type": "code",
            "execution_count": 4,
            "metadata": {},
            "outputs": [
                {
                    "data": {
                        "text/plain": "1    136485\n2     58188\nName: SEVERITYCODE, dtype: int64"
                    },
                    "execution_count": 4,
                    "metadata": {},
                    "output_type": "execute_result"
                }
            ],
            "source": "# Analyze Value Counts\ncolData[\"SEVERITYCODE\"].value_counts()"
        },
        {
            "cell_type": "code",
            "execution_count": 5,
            "metadata": {},
            "outputs": [
                {
                    "data": {
                        "text/plain": "Clear                       111135\nRaining                      33145\nOvercast                     27714\nUnknown                      15091\nSnowing                        907\nOther                          832\nFog/Smog/Smoke                 569\nSleet/Hail/Freezing Rain       113\nBlowing Sand/Dirt               56\nSevere Crosswind                25\nPartly Cloudy                    5\nName: WEATHER, dtype: int64"
                    },
                    "execution_count": 5,
                    "metadata": {},
                    "output_type": "execute_result"
                }
            ],
            "source": "colData[\"WEATHER\"].value_counts()"
        },
        {
            "cell_type": "code",
            "execution_count": 6,
            "metadata": {},
            "outputs": [
                {
                    "data": {
                        "text/plain": "Dry               124510\nWet                47474\nUnknown            15078\nIce                 1209\nSnow/Slush          1004\nOther                132\nStanding Water       115\nSand/Mud/Dirt         75\nOil                   64\nName: ROADCOND, dtype: int64"
                    },
                    "execution_count": 6,
                    "metadata": {},
                    "output_type": "execute_result"
                }
            ],
            "source": "colData[\"ROADCOND\"].value_counts()"
        },
        {
            "cell_type": "code",
            "execution_count": 7,
            "metadata": {},
            "outputs": [
                {
                    "data": {
                        "text/plain": "Daylight                    116137\nDark - Street Lights On      48507\nUnknown                      13473\nDusk                          5902\nDawn                          2502\nDark - No Street Lights       1537\nDark - Street Lights Off      1199\nOther                          235\nDark - Unknown Lighting         11\nName: LIGHTCOND, dtype: int64"
                    },
                    "execution_count": 7,
                    "metadata": {},
                    "output_type": "execute_result"
                }
            ],
            "source": "colData[\"LIGHTCOND\"].value_counts()"
        },
        {
            "cell_type": "markdown",
            "metadata": {},
            "source": "#### Balance the Dataset\nAs you might have realized, the dataset is unbalanced. The severity code for class 1 is nearly three times as large as for class 2.\nTo balance our data we sample down the majority class."
        },
        {
            "cell_type": "code",
            "execution_count": 9,
            "metadata": {},
            "outputs": [],
            "source": "from sklearn.utils import resample"
        },
        {
            "cell_type": "code",
            "execution_count": 43,
            "metadata": {},
            "outputs": [
                {
                    "data": {
                        "text/plain": "2    58188\n1    58188\nName: SEVERITYCODE, dtype: int64"
                    },
                    "execution_count": 43,
                    "metadata": {},
                    "output_type": "execute_result"
                }
            ],
            "source": "# Seperate the different classes\ncolData_majority = colData[colData.SEVERITYCODE == 1]\ncolData_minority = colData[colData.SEVERITYCODE == 2]\n\n# Downsample majority class\ncolData_majority_downsampled = resample(colData_majority,\n                                        replace = False,\n                                        n_samples = 58188,\n                                        random_state = 123)\n\n# Combine minority class with downsampled majority class\ncolData_balanced = pd.concat([colData_majority_downsampled, colData_minority])\n\n# Display new class counts\ncolData_balanced.SEVERITYCODE.value_counts()"
        },
        {
            "cell_type": "markdown",
            "metadata": {},
            "source": "### Perfectly balanced - as all things should be ;)"
        },
        {
            "cell_type": "markdown",
            "metadata": {},
            "source": "## Methodology\nAfter analyzing and cleaning our dataset, the data is now ready to be fed through ML models.\nWe will use the models we already know from the previous chapters:\n\n* K-Nearest Neighbor -> predicting the severity code of an outcome by finding the most similar data point within k distance \n* Decision Tree -> displaying all possible outcomes to analyze the consequences of a decision\n* Logistic Regression -> predicting onee of our two severity codes (1 or 2)"
        },
        {
            "cell_type": "code",
            "execution_count": 13,
            "metadata": {},
            "outputs": [
                {
                    "data": {
                        "text/plain": "array([[ 6,  8,  2],\n       [ 1,  0,  5],\n       [10,  7,  8],\n       [ 1,  0,  5],\n       [ 1,  0,  5]], dtype=int8)"
                    },
                    "execution_count": 13,
                    "metadata": {},
                    "output_type": "execute_result"
                }
            ],
            "source": "# Define X \nX = np.asarray(colData_balanced[['WEATHER_CAT', 'ROADCOND_CAT', 'LIGHTCOND_CAT']])\nX[0:5]"
        },
        {
            "cell_type": "code",
            "execution_count": 14,
            "metadata": {},
            "outputs": [
                {
                    "data": {
                        "text/plain": "array([1, 1, 1, 1, 1])"
                    },
                    "execution_count": 14,
                    "metadata": {},
                    "output_type": "execute_result"
                }
            ],
            "source": "# Define Y\ny = np.asarray(colData_balanced['SEVERITYCODE'])\ny [0:5]"
        },
        {
            "cell_type": "code",
            "execution_count": 15,
            "metadata": {},
            "outputs": [
                {
                    "name": "stderr",
                    "output_type": "stream",
                    "text": "/opt/conda/envs/Python36/lib/python3.6/site-packages/sklearn/utils/validation.py:595: DataConversionWarning: Data with input dtype int8 was converted to float64 by StandardScaler.\n  warnings.warn(msg, DataConversionWarning)\n/opt/conda/envs/Python36/lib/python3.6/site-packages/sklearn/utils/validation.py:595: DataConversionWarning: Data with input dtype int8 was converted to float64 by StandardScaler.\n  warnings.warn(msg, DataConversionWarning)\n"
                },
                {
                    "data": {
                        "text/plain": "array([[ 1.15236718,  1.52797946, -1.21648407],\n       [-0.67488   , -0.67084969,  0.42978835],\n       [ 2.61416492,  1.25312582,  2.07606076],\n       [-0.67488   , -0.67084969,  0.42978835],\n       [-0.67488   , -0.67084969,  0.42978835]])"
                    },
                    "execution_count": 15,
                    "metadata": {},
                    "output_type": "execute_result"
                }
            ],
            "source": "# Normalize Dataset\nfrom sklearn import preprocessing\nX = preprocessing.StandardScaler().fit(X).transform(X)\nX[0:5]"
        },
        {
            "cell_type": "code",
            "execution_count": 42,
            "metadata": {},
            "outputs": [
                {
                    "name": "stdout",
                    "output_type": "stream",
                    "text": "Train set: (81463, 3) (81463,)\nTest set: (34913, 3) (34913,)\n"
                }
            ],
            "source": "# Train/Test Split\n# 70% Train Data; 30% Test Data\nfrom sklearn.model_selection import train_test_split\nX_train, X_test, y_train, y_test = train_test_split(X, y, test_size = 0.3, random_state = 4)\nprint ('Train set:', X_train.shape,  y_train.shape)\nprint ('Test set:', X_test.shape,  y_test.shape)"
        },
        {
            "cell_type": "markdown",
            "metadata": {},
            "source": "#### KNN"
        },
        {
            "cell_type": "code",
            "execution_count": 17,
            "metadata": {},
            "outputs": [],
            "source": "from sklearn.neighbors import KNeighborsClassifier\nk = 25"
        },
        {
            "cell_type": "code",
            "execution_count": 41,
            "metadata": {},
            "outputs": [
                {
                    "data": {
                        "text/plain": "array([2, 2, 1, 1, 2])"
                    },
                    "execution_count": 41,
                    "metadata": {},
                    "output_type": "execute_result"
                }
            ],
            "source": "# Train and predict model\nneigh = KNeighborsClassifier(n_neighbors = k).fit(X_train, y_train)\nneigh\n\nKyhat = neigh.predict(X_test)\nKyhat[0:5]"
        },
        {
            "cell_type": "markdown",
            "metadata": {},
            "source": "#### Decision Tree"
        },
        {
            "cell_type": "code",
            "execution_count": 40,
            "metadata": {},
            "outputs": [
                {
                    "data": {
                        "text/plain": "DecisionTreeClassifier(class_weight=None, criterion='entropy', max_depth=7,\n            max_features=None, max_leaf_nodes=None,\n            min_impurity_decrease=0.0, min_impurity_split=None,\n            min_samples_leaf=1, min_samples_split=2,\n            min_weight_fraction_leaf=0.0, presort=False, random_state=None,\n            splitter='best')"
                    },
                    "execution_count": 40,
                    "metadata": {},
                    "output_type": "execute_result"
                }
            ],
            "source": "from sklearn.tree import DecisionTreeClassifier\ncolDataTree = DecisionTreeClassifier(criterion = \"entropy\", max_depth = 7)\ncolDataTree\ncolDataTree.fit(X_train,y_train)"
        },
        {
            "cell_type": "code",
            "execution_count": 21,
            "metadata": {},
            "outputs": [
                {
                    "name": "stdout",
                    "output_type": "stream",
                    "text": "[2 2 1 1 2]\n[2 2 1 1 1]\n"
                }
            ],
            "source": "# Train and predict model\npredTree = colDataTree.predict(X_test)\nprint (predTree [0:5])\nprint (y_test [0:5])"
        },
        {
            "cell_type": "markdown",
            "metadata": {},
            "source": "#### Logistic Regression"
        },
        {
            "cell_type": "code",
            "execution_count": 36,
            "metadata": {},
            "outputs": [
                {
                    "data": {
                        "text/plain": "LogisticRegression(C=6, class_weight=None, dual=False, fit_intercept=True,\n          intercept_scaling=1, max_iter=100, multi_class='warn',\n          n_jobs=None, penalty='l2', random_state=None, solver='liblinear',\n          tol=0.0001, verbose=0, warm_start=False)"
                    },
                    "execution_count": 36,
                    "metadata": {},
                    "output_type": "execute_result"
                }
            ],
            "source": "from sklearn.linear_model import LogisticRegression\nfrom sklearn.metrics import confusion_matrix\nLR = LogisticRegression(C = 6, solver = 'liblinear').fit(X_train, y_train)\nLR"
        },
        {
            "cell_type": "code",
            "execution_count": 23,
            "metadata": {},
            "outputs": [
                {
                    "data": {
                        "text/plain": "array([1, 2, 1, ..., 2, 2, 2])"
                    },
                    "execution_count": 23,
                    "metadata": {},
                    "output_type": "execute_result"
                }
            ],
            "source": "# Train and predict model\nLRyhat = LR.predict(X_test)\nLRyhat"
        },
        {
            "cell_type": "code",
            "execution_count": 24,
            "metadata": {},
            "outputs": [
                {
                    "data": {
                        "text/plain": "array([[0.57295252, 0.42704748],\n       [0.47065071, 0.52934929],\n       [0.67630201, 0.32369799],\n       ...,\n       [0.46929132, 0.53070868],\n       [0.47065071, 0.52934929],\n       [0.46929132, 0.53070868]])"
                    },
                    "execution_count": 24,
                    "metadata": {},
                    "output_type": "execute_result"
                }
            ],
            "source": "yhat_prob = LR.predict_proba(X_test)\nyhat_prob"
        },
        {
            "cell_type": "markdown",
            "metadata": {},
            "source": "## Results\nChecking the accuracy of our models using the Jaccard Similarity Score and the F1-Score."
        },
        {
            "cell_type": "code",
            "execution_count": 25,
            "metadata": {},
            "outputs": [],
            "source": "from sklearn.metrics import jaccard_similarity_score\nfrom sklearn.metrics import f1_score\nfrom sklearn.metrics import log_loss"
        },
        {
            "cell_type": "markdown",
            "metadata": {},
            "source": "#### KNN"
        },
        {
            "cell_type": "code",
            "execution_count": 28,
            "metadata": {},
            "outputs": [
                {
                    "data": {
                        "text/plain": "0.564001947698565"
                    },
                    "execution_count": 28,
                    "metadata": {},
                    "output_type": "execute_result"
                }
            ],
            "source": "# Jaccard\njaccard_similarity_score(y_test, Kyhat)"
        },
        {
            "cell_type": "code",
            "execution_count": 38,
            "metadata": {},
            "outputs": [
                {
                    "data": {
                        "text/plain": "0.5401775308974308"
                    },
                    "execution_count": 38,
                    "metadata": {},
                    "output_type": "execute_result"
                }
            ],
            "source": "# F1\nf1_score(y_test, Kyhat, average = 'macro')"
        },
        {
            "cell_type": "markdown",
            "metadata": {},
            "source": "Most accurate with k = 25."
        },
        {
            "cell_type": "markdown",
            "metadata": {},
            "source": "#### Decision Tree"
        },
        {
            "cell_type": "code",
            "execution_count": 31,
            "metadata": {},
            "outputs": [
                {
                    "data": {
                        "text/plain": "0.5664365709048206"
                    },
                    "execution_count": 31,
                    "metadata": {},
                    "output_type": "execute_result"
                }
            ],
            "source": "# Jaccard\njaccard_similarity_score(y_test, DTyhat)"
        },
        {
            "cell_type": "code",
            "execution_count": 37,
            "metadata": {},
            "outputs": [
                {
                    "data": {
                        "text/plain": "0.5450597937389444"
                    },
                    "execution_count": 37,
                    "metadata": {},
                    "output_type": "execute_result"
                }
            ],
            "source": "# F1\nf1_score(y_test, DTyhat, average = 'macro')"
        },
        {
            "cell_type": "markdown",
            "metadata": {},
            "source": "Most accurate with max_depth = 7."
        },
        {
            "cell_type": "markdown",
            "metadata": {},
            "source": "#### Logistic Regression"
        },
        {
            "cell_type": "code",
            "execution_count": 33,
            "metadata": {},
            "outputs": [
                {
                    "data": {
                        "text/plain": "0.5260218256809784"
                    },
                    "execution_count": 33,
                    "metadata": {},
                    "output_type": "execute_result"
                }
            ],
            "source": "# Jaccard\njaccard_similarity_score(y_test, LRyhat)"
        },
        {
            "cell_type": "code",
            "execution_count": 39,
            "metadata": {},
            "outputs": [
                {
                    "data": {
                        "text/plain": "0.511602093963383"
                    },
                    "execution_count": 39,
                    "metadata": {},
                    "output_type": "execute_result"
                }
            ],
            "source": "# F1\nf1_score(y_test, LRyhat, average = 'macro')"
        },
        {
            "cell_type": "code",
            "execution_count": 35,
            "metadata": {},
            "outputs": [
                {
                    "data": {
                        "text/plain": "0.6849535383198887"
                    },
                    "execution_count": 35,
                    "metadata": {},
                    "output_type": "execute_result"
                }
            ],
            "source": "# LogLoss\nyhat_prob = LR.predict_proba(X_test)\nlog_loss(y_test, yhat_prob)"
        },
        {
            "cell_type": "markdown",
            "metadata": {},
            "source": "Most accurate with C = 6."
        },
        {
            "cell_type": "markdown",
            "metadata": {},
            "source": "## Discussion\nIn the beginning we changed the data type of some of our given data from 'object' to 'int8' - a numerical data type - to use it for our algorithm.\nAfter the first issue we had to take care of unbalanced data. To match the minority class we sampled down the majority class, which was class 1, until the values of both classes matched.\nThat step was followed by analyzing and cleaning our data for the three machine learning models: K-Nearest Neighbor, Decision Tree and Logistic Regression. \nTo see how accurate our models were, we lastly used the Jaccard Similarity Index, the F1-Score and LogLoss for Logistic Regression. To improve the accuracy of the models the different variables of each model (k, max_depth, C) had to be adjusted several times for the best possible result."
        },
        {
            "cell_type": "markdown",
            "metadata": {},
            "source": "## Conclusion\nBased on the given historical data about weather conditions in relation to car accidents, we can say that the weather does have an impact on whether or not driving could result in a car accident leading to property damages (class 1) or injuries (class 2)."
        }
    ],
    "metadata": {
        "kernelspec": {
            "display_name": "Python 3.6",
            "language": "python",
            "name": "python3"
        },
        "language_info": {
            "codemirror_mode": {
                "name": "ipython",
                "version": 3
            },
            "file_extension": ".py",
            "mimetype": "text/x-python",
            "name": "python",
            "nbconvert_exporter": "python",
            "pygments_lexer": "ipython3",
            "version": "3.6.9"
        }
    },
    "nbformat": 4,
    "nbformat_minor": 1
}